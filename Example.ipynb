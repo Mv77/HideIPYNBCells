{
 "cells": [
  {
   "cell_type": "code",
   "execution_count": 1,
   "metadata": {
    "tags": [
     "Conversion"
    ]
   },
   "outputs": [],
   "source": [
    "# This cell reads a notebook, removes cells with the\n",
    "# desired tags, and saves the result in a new notebook\n",
    "\n",
    "import nbformat as nbf\n",
    "from nbconvert import NotebookExporter\n",
    "from traitlets.config import Config\n",
    "\n",
    "# Setup\n",
    "input_path = \"Example.ipynb\"\n",
    "output_path = \"ExampleQuestions.ipynb\"\n",
    "tags_to_remove = {\"Answer\",\"Conversion\"}\n",
    "\n",
    "# Read and process notebook\n",
    "c = Config()\n",
    "c.TagRemovePreprocessor.enabled = True\n",
    "c.TagRemovePreprocessor.remove_cell_tags = tags_to_remove\n",
    "nb = NotebookExporter(config=c).from_filename(input_path)\n",
    "\n",
    "# Write new file\n",
    "file = open(output_path,\"w+\")\n",
    "file.write(nb[0])\n",
    "file.close()"
   ]
  },
  {
   "cell_type": "markdown",
   "metadata": {
    "tags": [
     "Question"
    ]
   },
   "source": [
    "# Example question\n",
    "\n",
    "Plot the square of the integers from $0$ to $100$"
   ]
  },
  {
   "cell_type": "code",
   "execution_count": 2,
   "metadata": {
    "tags": [
     "Answer"
    ]
   },
   "outputs": [
    {
     "data": {
      "text/plain": [
       "[<matplotlib.lines.Line2D at 0x2026e90dd30>]"
      ]
     },
     "execution_count": 2,
     "metadata": {},
     "output_type": "execute_result"
    }
   ],
   "source": [
    "import matplotlib.pyplot as plt\n",
    "\n",
    "plt.figure\n",
    "plt.plot([x*x for x in range(101)],'.')"
   ]
  },
  {
   "cell_type": "markdown",
   "metadata": {
    "tags": [
     "Question"
    ]
   },
   "source": [
    "# Example question 2\n",
    "\n",
    "What is $2+2$?"
   ]
  },
  {
   "cell_type": "code",
   "execution_count": 3,
   "metadata": {
    "tags": [
     "Answer"
    ]
   },
   "outputs": [
    {
     "name": "stdout",
     "output_type": "stream",
     "text": [
      "4\n"
     ]
    }
   ],
   "source": [
    "print(2+2)"
   ]
  }
 ],
 "metadata": {
  "celltoolbar": "Tags",
  "kernelspec": {
   "display_name": "Python 3",
   "language": "python",
   "name": "python3"
  },
  "language_info": {
   "codemirror_mode": {
    "name": "ipython",
    "version": 3
   },
   "file_extension": ".py",
   "mimetype": "text/x-python",
   "name": "python",
   "nbconvert_exporter": "python",
   "pygments_lexer": "ipython3",
   "version": "3.7.3"
  }
 },
 "nbformat": 4,
 "nbformat_minor": 2
}
